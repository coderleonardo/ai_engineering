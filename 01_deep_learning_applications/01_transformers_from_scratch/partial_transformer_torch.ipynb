{
 "cells": [
  {
   "cell_type": "code",
   "execution_count": 2,
   "metadata": {},
   "outputs": [],
   "source": [
    "# !pip install torch"
   ]
  },
  {
   "cell_type": "code",
   "execution_count": 3,
   "metadata": {},
   "outputs": [],
   "source": [
    "from torch import nn"
   ]
  },
  {
   "cell_type": "code",
   "execution_count": 4,
   "metadata": {},
   "outputs": [],
   "source": [
    "class PartialTransformer(nn.Module):\n",
    "\n",
    "  def __init__(self, vocab_size, embedding_dim, n_heads, n_layers, dropout):\n",
    "    super().__init__()\n",
    "\n",
    "    self.vocab_size = vocab_size\n",
    "    self.embedding_dim = embedding_dim\n",
    "    self.n_heads = n_heads\n",
    "    self.n_layers = n_layers\n",
    "    self.dropout = dropout\n",
    "\n",
    "    self.embedding = nn.Embedding(vocab_size, embedding_dim)\n",
    "    self.attention = nn.MultiheadAttention(embedding_dim, n_heads, dropout = dropout)\n",
    "    self.feed_forward = nn.Sequential(\n",
    "        nn.Linear(embedding_dim, embedding_dim),\n",
    "        nn.ReLU(),\n",
    "        nn.Linear(embedding_dim, embedding_dim)\n",
    "    )\n",
    "    self.out = nn.Linear(embedding_dim, vocab_size)\n",
    "\n",
    "  def forward(self, x):\n",
    "\n",
    "    x = self.embedding(x)\n",
    "    x = self.attention(x)\n",
    "    x = self.feed_forward(x)\n",
    "    x = self.out(x)\n",
    "\n",
    "    return x"
   ]
  },
  {
   "cell_type": "code",
   "execution_count": 5,
   "metadata": {},
   "outputs": [],
   "source": [
    "model = PartialTransformer(\n",
    "    vocab_size = 1000, \n",
    "    embedding_dim = 32, \n",
    "    n_heads = 4, \n",
    "    n_layers = 2, \n",
    "    dropout = 0.5\n",
    "    )"
   ]
  },
  {
   "cell_type": "code",
   "execution_count": 6,
   "metadata": {},
   "outputs": [
    {
     "data": {
      "text/plain": [
       "<bound method Module.modules of PartialTransformer(\n",
       "  (embedding): Embedding(1000, 32)\n",
       "  (attention): MultiheadAttention(\n",
       "    (out_proj): NonDynamicallyQuantizableLinear(in_features=32, out_features=32, bias=True)\n",
       "  )\n",
       "  (feed_forward): Sequential(\n",
       "    (0): Linear(in_features=32, out_features=32, bias=True)\n",
       "    (1): ReLU()\n",
       "    (2): Linear(in_features=32, out_features=32, bias=True)\n",
       "  )\n",
       "  (out): Linear(in_features=32, out_features=1000, bias=True)\n",
       ")>"
      ]
     },
     "execution_count": 6,
     "metadata": {},
     "output_type": "execute_result"
    }
   ],
   "source": [
    "model.modules"
   ]
  },
  {
   "cell_type": "code",
   "execution_count": null,
   "metadata": {},
   "outputs": [],
   "source": []
  }
 ],
 "metadata": {
  "kernelspec": {
   "display_name": "Python 3",
   "language": "python",
   "name": "python3"
  },
  "language_info": {
   "codemirror_mode": {
    "name": "ipython",
    "version": 3
   },
   "file_extension": ".py",
   "mimetype": "text/x-python",
   "name": "python",
   "nbconvert_exporter": "python",
   "pygments_lexer": "ipython3",
   "version": "3.8.10"
  }
 },
 "nbformat": 4,
 "nbformat_minor": 2
}
