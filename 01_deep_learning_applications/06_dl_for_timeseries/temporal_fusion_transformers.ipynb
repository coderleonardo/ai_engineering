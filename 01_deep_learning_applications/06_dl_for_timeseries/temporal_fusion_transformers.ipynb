{
 "cells": [
  {
   "cell_type": "code",
   "execution_count": 1,
   "metadata": {},
   "outputs": [
    {
     "name": "stdout",
     "output_type": "stream",
     "text": [
      "env: TF_CPP_MIN_LOG_LEVEL=3\n"
     ]
    }
   ],
   "source": [
    "%env TF_CPP_MIN_LOG_LEVEL=3"
   ]
  },
  {
   "cell_type": "code",
   "execution_count": null,
   "metadata": {},
   "outputs": [],
   "source": [
    "!python3 -m pip install -q tensorflow\n",
    "!python3 -m pip install -q yfinance # https://pypi.org/project/yfinance/\n",
    "!python3 -m pip install -q ta # https://pypi.org/project/ta/"
   ]
  },
  {
   "cell_type": "code",
   "execution_count": 2,
   "metadata": {},
   "outputs": [],
   "source": [
    "import ta\n",
    "import sklearn\n",
    "import pandas as pd\n",
    "import numpy as np\n",
    "import tensorflow\n",
    "import yfinance as yf\n",
    "import matplotlib.pyplot as plt\n",
    "from tensorflow import keras\n",
    "from tensorflow.keras import layers\n",
    "from sklearn.preprocessing import StandardScaler\n",
    "from sklearn import metrics\n",
    "\n",
    "import warnings\n",
    "warnings.filterwarnings(\"ignore\")"
   ]
  },
  {
   "cell_type": "code",
   "execution_count": 8,
   "metadata": {},
   "outputs": [],
   "source": [
    "def download_data(ticker: str, start: str = \"2022-01-01\", end: str = \"2023-12-31\"):\n",
    "\n",
    "    df = yf.download(ticker, start=start, end=end)\n",
    "\n",
    "    df.columns = [\"adj_close\", \"close\", \"high\", \"low\", \"open\", \"volume\"] # https://ranaroussi.github.io/yfinance/reference/api/yfinance.download.html#yfinance.download\n",
    "    df.index.name = \"date\"\n",
    "\n",
    "    return df"
   ]
  },
  {
   "cell_type": "code",
   "execution_count": 12,
   "metadata": {},
   "outputs": [
    {
     "name": "stderr",
     "output_type": "stream",
     "text": [
      "[*********************100%***********************]  1 of 1 completed\n",
      "\n",
      "1 Failed download:\n",
      "['MSFT']: YFRateLimitError('Too Many Requests. Rate limited. Try after a while.')\n"
     ]
    }
   ],
   "source": [
    "df = download_data(\"MSFT\")"
   ]
  },
  {
   "cell_type": "code",
   "execution_count": 10,
   "metadata": {},
   "outputs": [
    {
     "data": {
      "text/plain": [
       "Index(['adj_close', 'close', 'high', 'low', 'open', 'volume'], dtype='object')"
      ]
     },
     "execution_count": 10,
     "metadata": {},
     "output_type": "execute_result"
    }
   ],
   "source": [
    "df.columns"
   ]
  },
  {
   "cell_type": "code",
   "execution_count": 11,
   "metadata": {},
   "outputs": [
    {
     "data": {
      "text/html": [
       "<div>\n",
       "<style scoped>\n",
       "    .dataframe tbody tr th:only-of-type {\n",
       "        vertical-align: middle;\n",
       "    }\n",
       "\n",
       "    .dataframe tbody tr th {\n",
       "        vertical-align: top;\n",
       "    }\n",
       "\n",
       "    .dataframe thead th {\n",
       "        text-align: right;\n",
       "    }\n",
       "</style>\n",
       "<table border=\"1\" class=\"dataframe\">\n",
       "  <thead>\n",
       "    <tr style=\"text-align: right;\">\n",
       "      <th></th>\n",
       "      <th>adj_close</th>\n",
       "      <th>close</th>\n",
       "      <th>high</th>\n",
       "      <th>low</th>\n",
       "      <th>open</th>\n",
       "      <th>volume</th>\n",
       "    </tr>\n",
       "    <tr>\n",
       "      <th>date</th>\n",
       "      <th></th>\n",
       "      <th></th>\n",
       "      <th></th>\n",
       "      <th></th>\n",
       "      <th></th>\n",
       "      <th></th>\n",
       "    </tr>\n",
       "  </thead>\n",
       "  <tbody>\n",
       "  </tbody>\n",
       "</table>\n",
       "</div>"
      ],
      "text/plain": [
       "Empty DataFrame\n",
       "Columns: [adj_close, close, high, low, open, volume]\n",
       "Index: []"
      ]
     },
     "execution_count": 11,
     "metadata": {},
     "output_type": "execute_result"
    }
   ],
   "source": [
    "df.head()"
   ]
  },
  {
   "cell_type": "code",
   "execution_count": 8,
   "metadata": {},
   "outputs": [
    {
     "data": {
      "text/html": [
       "<div>\n",
       "<style scoped>\n",
       "    .dataframe tbody tr th:only-of-type {\n",
       "        vertical-align: middle;\n",
       "    }\n",
       "\n",
       "    .dataframe tbody tr th {\n",
       "        vertical-align: top;\n",
       "    }\n",
       "\n",
       "    .dataframe thead th {\n",
       "        text-align: right;\n",
       "    }\n",
       "</style>\n",
       "<table border=\"1\" class=\"dataframe\">\n",
       "  <thead>\n",
       "    <tr style=\"text-align: right;\">\n",
       "      <th></th>\n",
       "      <th>close</th>\n",
       "      <th>high</th>\n",
       "      <th>low</th>\n",
       "      <th>open</th>\n",
       "      <th>volume</th>\n",
       "    </tr>\n",
       "    <tr>\n",
       "      <th>date</th>\n",
       "      <th></th>\n",
       "      <th></th>\n",
       "      <th></th>\n",
       "      <th></th>\n",
       "      <th></th>\n",
       "    </tr>\n",
       "  </thead>\n",
       "  <tbody>\n",
       "    <tr>\n",
       "      <th>2023-12-22</th>\n",
       "      <td>371.799713</td>\n",
       "      <td>372.395266</td>\n",
       "      <td>369.943598</td>\n",
       "      <td>370.906399</td>\n",
       "      <td>17091100</td>\n",
       "    </tr>\n",
       "    <tr>\n",
       "      <th>2023-12-26</th>\n",
       "      <td>371.879120</td>\n",
       "      <td>374.142196</td>\n",
       "      <td>370.727726</td>\n",
       "      <td>372.216593</td>\n",
       "      <td>12673100</td>\n",
       "    </tr>\n",
       "    <tr>\n",
       "      <th>2023-12-27</th>\n",
       "      <td>371.293518</td>\n",
       "      <td>372.276160</td>\n",
       "      <td>370.042861</td>\n",
       "      <td>370.916334</td>\n",
       "      <td>14905400</td>\n",
       "    </tr>\n",
       "    <tr>\n",
       "      <th>2023-12-28</th>\n",
       "      <td>372.494507</td>\n",
       "      <td>373.665741</td>\n",
       "      <td>371.382825</td>\n",
       "      <td>372.583835</td>\n",
       "      <td>14327000</td>\n",
       "    </tr>\n",
       "    <tr>\n",
       "      <th>2023-12-29</th>\n",
       "      <td>373.248871</td>\n",
       "      <td>374.360553</td>\n",
       "      <td>370.707875</td>\n",
       "      <td>373.209159</td>\n",
       "      <td>18723000</td>\n",
       "    </tr>\n",
       "  </tbody>\n",
       "</table>\n",
       "</div>"
      ],
      "text/plain": [
       "                 close        high         low        open    volume\n",
       "date                                                                \n",
       "2023-12-22  371.799713  372.395266  369.943598  370.906399  17091100\n",
       "2023-12-26  371.879120  374.142196  370.727726  372.216593  12673100\n",
       "2023-12-27  371.293518  372.276160  370.042861  370.916334  14905400\n",
       "2023-12-28  372.494507  373.665741  371.382825  372.583835  14327000\n",
       "2023-12-29  373.248871  374.360553  370.707875  373.209159  18723000"
      ]
     },
     "execution_count": 8,
     "metadata": {},
     "output_type": "execute_result"
    }
   ],
   "source": [
    "df.tail()"
   ]
  },
  {
   "cell_type": "code",
   "execution_count": 9,
   "metadata": {},
   "outputs": [],
   "source": [
    "# Feature Engineering\n",
    "def feature_engineering(df, window=5):\n",
    "\n",
    "    # Cópia do dataframe\n",
    "    result_df = df.copy()\n",
    "\n",
    "    result_df[\"close_pct_change\"] = result_df[\"close\"].pct_change(1) # target\n",
    "\n",
    "    result_df[\"op\"] = result_df[\"open\"].shift(1)\n",
    "    result_df[\"hi\"] = result_df[\"high\"].shift(1)\n",
    "    result_df[\"lo\"] = result_df[\"low\"].shift(1)\n",
    "    result_df[\"clo\"] = result_df[\"close\"].shift(1)\n",
    "\n",
    "    result_df[\"vol\"] = result_df[\"volume\"].shift(1)\n",
    "\n",
    "    # Simple Moving Average (SMA)\n",
    "    result_df[\"sma_15\"] = result_df[[\"close\"]].rolling(15).mean().shift(1)\n",
    "    result_df[\"sma_60\"] = result_df[[\"close\"]].rolling(60).mean().shift(1)\n",
    "\n",
    "    # Moving Standard Deviation (MSD) - Volatilidade\n",
    "    result_df[\"msd_15\"] = result_df[\"close_pct_change\"].rolling(15).std().shift(1)\n",
    "    result_df[\"msd_60\"] = result_df[\"close_pct_change\"].rolling(60).std().shift(1)\n",
    "\n",
    "    # Volume Weighted Average Price (VWAP)\n",
    "    vwap = ta.volume.VolumeWeightedAveragePrice(high=df['high'],\n",
    "                                                low=df['low'],\n",
    "                                                close=df['close'],\n",
    "                                                volume=df['volume'],\n",
    "                                                window=window)\n",
    "    result_df[\"vwap\"] = vwap.vwap.shift(1)\n",
    "\n",
    "    # Relative Strength Index (RSI)\n",
    "    RSI = ta.momentum.RSIIndicator(result_df[\"close\"], window=window, fillna=False)\n",
    "    result_df[\"rsi\"] = RSI.rsi().shift(1)\n",
    "\n",
    "    return result_df.dropna().drop([\"open\", \"high\", \"low\", \"close\", \"volume\"], axis=1).sort_index()"
   ]
  },
  {
   "cell_type": "code",
   "execution_count": 10,
   "metadata": {},
   "outputs": [],
   "source": [
    "features_target_df = feature_engineering(df)"
   ]
  },
  {
   "cell_type": "code",
   "execution_count": 11,
   "metadata": {},
   "outputs": [
    {
     "data": {
      "text/html": [
       "<div>\n",
       "<style scoped>\n",
       "    .dataframe tbody tr th:only-of-type {\n",
       "        vertical-align: middle;\n",
       "    }\n",
       "\n",
       "    .dataframe tbody tr th {\n",
       "        vertical-align: top;\n",
       "    }\n",
       "\n",
       "    .dataframe thead th {\n",
       "        text-align: right;\n",
       "    }\n",
       "</style>\n",
       "<table border=\"1\" class=\"dataframe\">\n",
       "  <thead>\n",
       "    <tr style=\"text-align: right;\">\n",
       "      <th></th>\n",
       "      <th>close_pct_change</th>\n",
       "      <th>op</th>\n",
       "      <th>hi</th>\n",
       "      <th>lo</th>\n",
       "      <th>clo</th>\n",
       "      <th>vol</th>\n",
       "      <th>sma_15</th>\n",
       "      <th>sma_60</th>\n",
       "      <th>msd_15</th>\n",
       "      <th>msd_60</th>\n",
       "      <th>vwap</th>\n",
       "      <th>rsi</th>\n",
       "    </tr>\n",
       "    <tr>\n",
       "      <th>date</th>\n",
       "      <th></th>\n",
       "      <th></th>\n",
       "      <th></th>\n",
       "      <th></th>\n",
       "      <th></th>\n",
       "      <th></th>\n",
       "      <th></th>\n",
       "      <th></th>\n",
       "      <th></th>\n",
       "      <th></th>\n",
       "      <th></th>\n",
       "      <th></th>\n",
       "    </tr>\n",
       "  </thead>\n",
       "  <tbody>\n",
       "    <tr>\n",
       "      <th>2022-03-31</th>\n",
       "      <td>-0.017683</td>\n",
       "      <td>306.460700</td>\n",
       "      <td>308.599754</td>\n",
       "      <td>304.331393</td>\n",
       "      <td>306.558350</td>\n",
       "      <td>28163600.0</td>\n",
       "      <td>291.051060</td>\n",
       "      <td>292.873312</td>\n",
       "      <td>0.017195</td>\n",
       "      <td>0.020944</td>\n",
       "      <td>301.467382</td>\n",
       "      <td>75.353796</td>\n",
       "    </tr>\n",
       "    <tr>\n",
       "      <th>2022-04-01</th>\n",
       "      <td>0.003601</td>\n",
       "      <td>306.597370</td>\n",
       "      <td>307.808543</td>\n",
       "      <td>300.727208</td>\n",
       "      <td>301.137421</td>\n",
       "      <td>33422100.0</td>\n",
       "      <td>292.530487</td>\n",
       "      <td>292.547389</td>\n",
       "      <td>0.017797</td>\n",
       "      <td>0.020951</td>\n",
       "      <td>302.943619</td>\n",
       "      <td>55.617561</td>\n",
       "    </tr>\n",
       "    <tr>\n",
       "      <th>2022-04-04</th>\n",
       "      <td>0.017937</td>\n",
       "      <td>302.172856</td>\n",
       "      <td>302.915185</td>\n",
       "      <td>298.431969</td>\n",
       "      <td>302.221710</td>\n",
       "      <td>27110500.0</td>\n",
       "      <td>294.441636</td>\n",
       "      <td>292.444716</td>\n",
       "      <td>0.016469</td>\n",
       "      <td>0.020369</td>\n",
       "      <td>303.711375</td>\n",
       "      <td>58.345311</td>\n",
       "    </tr>\n",
       "    <tr>\n",
       "      <th>2022-04-05</th>\n",
       "      <td>-0.012985</td>\n",
       "      <td>302.876071</td>\n",
       "      <td>307.779275</td>\n",
       "      <td>302.504907</td>\n",
       "      <td>307.642548</td>\n",
       "      <td>24289600.0</td>\n",
       "      <td>296.950545</td>\n",
       "      <td>292.473004</td>\n",
       "      <td>0.015738</td>\n",
       "      <td>0.020474</td>\n",
       "      <td>304.565485</td>\n",
       "      <td>69.904477</td>\n",
       "    </tr>\n",
       "    <tr>\n",
       "      <th>2022-04-06</th>\n",
       "      <td>-0.036606</td>\n",
       "      <td>305.982089</td>\n",
       "      <td>307.544872</td>\n",
       "      <td>302.661192</td>\n",
       "      <td>303.647705</td>\n",
       "      <td>23156700.0</td>\n",
       "      <td>298.495742</td>\n",
       "      <td>292.432111</td>\n",
       "      <td>0.014324</td>\n",
       "      <td>0.020546</td>\n",
       "      <td>304.223972</td>\n",
       "      <td>55.672986</td>\n",
       "    </tr>\n",
       "  </tbody>\n",
       "</table>\n",
       "</div>"
      ],
      "text/plain": [
       "            close_pct_change          op          hi          lo         clo  \\\n",
       "date                                                                           \n",
       "2022-03-31         -0.017683  306.460700  308.599754  304.331393  306.558350   \n",
       "2022-04-01          0.003601  306.597370  307.808543  300.727208  301.137421   \n",
       "2022-04-04          0.017937  302.172856  302.915185  298.431969  302.221710   \n",
       "2022-04-05         -0.012985  302.876071  307.779275  302.504907  307.642548   \n",
       "2022-04-06         -0.036606  305.982089  307.544872  302.661192  303.647705   \n",
       "\n",
       "                   vol      sma_15      sma_60    msd_15    msd_60  \\\n",
       "date                                                                 \n",
       "2022-03-31  28163600.0  291.051060  292.873312  0.017195  0.020944   \n",
       "2022-04-01  33422100.0  292.530487  292.547389  0.017797  0.020951   \n",
       "2022-04-04  27110500.0  294.441636  292.444716  0.016469  0.020369   \n",
       "2022-04-05  24289600.0  296.950545  292.473004  0.015738  0.020474   \n",
       "2022-04-06  23156700.0  298.495742  292.432111  0.014324  0.020546   \n",
       "\n",
       "                  vwap        rsi  \n",
       "date                               \n",
       "2022-03-31  301.467382  75.353796  \n",
       "2022-04-01  302.943619  55.617561  \n",
       "2022-04-04  303.711375  58.345311  \n",
       "2022-04-05  304.565485  69.904477  \n",
       "2022-04-06  304.223972  55.672986  "
      ]
     },
     "execution_count": 11,
     "metadata": {},
     "output_type": "execute_result"
    }
   ],
   "source": [
    "features_target_df.head()"
   ]
  },
  {
   "cell_type": "code",
   "execution_count": 12,
   "metadata": {},
   "outputs": [
    {
     "data": {
      "text/plain": [
       "(396, 440)"
      ]
     },
     "execution_count": 12,
     "metadata": {},
     "output_type": "execute_result"
    }
   ],
   "source": [
    "# Data Pre-processing\n",
    "\n",
    "pct_train = 0.7\n",
    "pct_val   = 0.2\n",
    "# pct_test  = 0.1\n",
    "\n",
    "split_train = int(pct_train*len(features_target_df))\n",
    "split_val   = int(pct_val*len(features_target_df))\n",
    "# split_test  = int(pct_test*len(features_target_df))\n",
    "\n",
    "split_train + split_val, len(features_target_df)"
   ]
  },
  {
   "cell_type": "code",
   "execution_count": null,
   "metadata": {},
   "outputs": [],
   "source": [
    "train_df = features_target_df.iloc[:split_train, :] # interval [0, split_train)\n",
    "X_train = train_df.drop(\"close_pct_change\", axis=1)\n",
    "y_train = train_df.close_pct_change.values\n",
    "\n",
    "val_df = features_target_df.iloc[split_train:split_train+split_val, :] # interval [split_train, split_train+split_val)\n",
    "X_val = val_df.drop(\"close_pct_change\", axis=1)\n",
    "y_val = val_df.close_pct_change.values\n",
    "\n",
    "test_df = features_target_df.iloc[split_train+split_val:, :] # interval [split_train+split_val, end]\n",
    "X_test = test_df.drop(\"close_pct_change\", axis=1)\n",
    "y_test = test_df.close_pct_change.values"
   ]
  },
  {
   "cell_type": "code",
   "execution_count": 14,
   "metadata": {},
   "outputs": [
    {
     "data": {
      "text/plain": [
       "(308, 88, 44, 440)"
      ]
     },
     "execution_count": 14,
     "metadata": {},
     "output_type": "execute_result"
    }
   ],
   "source": [
    "train_df.shape[0], val_df.shape[0], test_df.shape[0], train_df.shape[0] + val_df.shape[0] + test_df.shape[0]"
   ]
  },
  {
   "cell_type": "code",
   "execution_count": 15,
   "metadata": {},
   "outputs": [],
   "source": [
    "# Scaling\n",
    "sc = StandardScaler()\n",
    "\n",
    "X_train_scaled = sc.fit_transform(X_train)\n",
    "X_val_scaled   = sc.transform(X_val)\n",
    "X_test_scaled  = sc.transform(X_test)"
   ]
  },
  {
   "cell_type": "code",
   "execution_count": 16,
   "metadata": {},
   "outputs": [
    {
     "data": {
      "text/html": [
       "<div>\n",
       "<style scoped>\n",
       "    .dataframe tbody tr th:only-of-type {\n",
       "        vertical-align: middle;\n",
       "    }\n",
       "\n",
       "    .dataframe tbody tr th {\n",
       "        vertical-align: top;\n",
       "    }\n",
       "\n",
       "    .dataframe thead th {\n",
       "        text-align: right;\n",
       "    }\n",
       "</style>\n",
       "<table border=\"1\" class=\"dataframe\">\n",
       "  <thead>\n",
       "    <tr style=\"text-align: right;\">\n",
       "      <th></th>\n",
       "      <th>op</th>\n",
       "      <th>hi</th>\n",
       "      <th>lo</th>\n",
       "      <th>clo</th>\n",
       "      <th>vol</th>\n",
       "      <th>sma_15</th>\n",
       "      <th>sma_60</th>\n",
       "      <th>msd_15</th>\n",
       "      <th>msd_60</th>\n",
       "      <th>vwap</th>\n",
       "      <th>rsi</th>\n",
       "    </tr>\n",
       "    <tr>\n",
       "      <th>date</th>\n",
       "      <th></th>\n",
       "      <th></th>\n",
       "      <th></th>\n",
       "      <th></th>\n",
       "      <th></th>\n",
       "      <th></th>\n",
       "      <th></th>\n",
       "      <th></th>\n",
       "      <th></th>\n",
       "      <th></th>\n",
       "      <th></th>\n",
       "    </tr>\n",
       "  </thead>\n",
       "  <tbody>\n",
       "    <tr>\n",
       "      <th>2022-03-31</th>\n",
       "      <td>306.460700</td>\n",
       "      <td>308.599754</td>\n",
       "      <td>304.331393</td>\n",
       "      <td>306.558350</td>\n",
       "      <td>28163600.0</td>\n",
       "      <td>291.051060</td>\n",
       "      <td>292.873312</td>\n",
       "      <td>0.017195</td>\n",
       "      <td>0.020944</td>\n",
       "      <td>301.467382</td>\n",
       "      <td>75.353796</td>\n",
       "    </tr>\n",
       "    <tr>\n",
       "      <th>2022-04-01</th>\n",
       "      <td>306.597370</td>\n",
       "      <td>307.808543</td>\n",
       "      <td>300.727208</td>\n",
       "      <td>301.137421</td>\n",
       "      <td>33422100.0</td>\n",
       "      <td>292.530487</td>\n",
       "      <td>292.547389</td>\n",
       "      <td>0.017797</td>\n",
       "      <td>0.020951</td>\n",
       "      <td>302.943619</td>\n",
       "      <td>55.617561</td>\n",
       "    </tr>\n",
       "    <tr>\n",
       "      <th>2022-04-04</th>\n",
       "      <td>302.172856</td>\n",
       "      <td>302.915185</td>\n",
       "      <td>298.431969</td>\n",
       "      <td>302.221710</td>\n",
       "      <td>27110500.0</td>\n",
       "      <td>294.441636</td>\n",
       "      <td>292.444716</td>\n",
       "      <td>0.016469</td>\n",
       "      <td>0.020369</td>\n",
       "      <td>303.711375</td>\n",
       "      <td>58.345311</td>\n",
       "    </tr>\n",
       "    <tr>\n",
       "      <th>2022-04-05</th>\n",
       "      <td>302.876071</td>\n",
       "      <td>307.779275</td>\n",
       "      <td>302.504907</td>\n",
       "      <td>307.642548</td>\n",
       "      <td>24289600.0</td>\n",
       "      <td>296.950545</td>\n",
       "      <td>292.473004</td>\n",
       "      <td>0.015738</td>\n",
       "      <td>0.020474</td>\n",
       "      <td>304.565485</td>\n",
       "      <td>69.904477</td>\n",
       "    </tr>\n",
       "    <tr>\n",
       "      <th>2022-04-06</th>\n",
       "      <td>305.982089</td>\n",
       "      <td>307.544872</td>\n",
       "      <td>302.661192</td>\n",
       "      <td>303.647705</td>\n",
       "      <td>23156700.0</td>\n",
       "      <td>298.495742</td>\n",
       "      <td>292.432111</td>\n",
       "      <td>0.014324</td>\n",
       "      <td>0.020546</td>\n",
       "      <td>304.223972</td>\n",
       "      <td>55.672986</td>\n",
       "    </tr>\n",
       "    <tr>\n",
       "      <th>...</th>\n",
       "      <td>...</td>\n",
       "      <td>...</td>\n",
       "      <td>...</td>\n",
       "      <td>...</td>\n",
       "      <td>...</td>\n",
       "      <td>...</td>\n",
       "      <td>...</td>\n",
       "      <td>...</td>\n",
       "      <td>...</td>\n",
       "      <td>...</td>\n",
       "      <td>...</td>\n",
       "    </tr>\n",
       "    <tr>\n",
       "      <th>2023-06-15</th>\n",
       "      <td>330.486482</td>\n",
       "      <td>335.132323</td>\n",
       "      <td>328.974117</td>\n",
       "      <td>333.451904</td>\n",
       "      <td>26003800.0</td>\n",
       "      <td>326.115466</td>\n",
       "      <td>299.889669</td>\n",
       "      <td>0.015585</td>\n",
       "      <td>0.016044</td>\n",
       "      <td>326.759476</td>\n",
       "      <td>72.346888</td>\n",
       "    </tr>\n",
       "    <tr>\n",
       "      <th>2023-06-16</th>\n",
       "      <td>333.590299</td>\n",
       "      <td>345.807826</td>\n",
       "      <td>333.313527</td>\n",
       "      <td>344.087891</td>\n",
       "      <td>38899100.0</td>\n",
       "      <td>328.372481</td>\n",
       "      <td>301.123898</td>\n",
       "      <td>0.016844</td>\n",
       "      <td>0.016450</td>\n",
       "      <td>331.831846</td>\n",
       "      <td>84.517662</td>\n",
       "    </tr>\n",
       "    <tr>\n",
       "      <th>2023-06-20</th>\n",
       "      <td>347.270804</td>\n",
       "      <td>347.419069</td>\n",
       "      <td>338.008805</td>\n",
       "      <td>338.384399</td>\n",
       "      <td>46533600.0</td>\n",
       "      <td>329.453870</td>\n",
       "      <td>302.287563</td>\n",
       "      <td>0.015453</td>\n",
       "      <td>0.016622</td>\n",
       "      <td>335.812114</td>\n",
       "      <td>65.263741</td>\n",
       "    </tr>\n",
       "    <tr>\n",
       "      <th>2023-06-21</th>\n",
       "      <td>335.399235</td>\n",
       "      <td>338.137298</td>\n",
       "      <td>331.988986</td>\n",
       "      <td>334.153748</td>\n",
       "      <td>26375400.0</td>\n",
       "      <td>329.793907</td>\n",
       "      <td>303.292440</td>\n",
       "      <td>0.015108</td>\n",
       "      <td>0.016626</td>\n",
       "      <td>337.134815</td>\n",
       "      <td>53.882363</td>\n",
       "    </tr>\n",
       "    <tr>\n",
       "      <th>2023-06-22</th>\n",
       "      <td>332.493126</td>\n",
       "      <td>333.837467</td>\n",
       "      <td>328.242698</td>\n",
       "      <td>329.715515</td>\n",
       "      <td>25117800.0</td>\n",
       "      <td>329.948769</td>\n",
       "      <td>304.175511</td>\n",
       "      <td>0.015493</td>\n",
       "      <td>0.016738</td>\n",
       "      <td>337.126810</td>\n",
       "      <td>43.853721</td>\n",
       "    </tr>\n",
       "  </tbody>\n",
       "</table>\n",
       "<p>308 rows × 11 columns</p>\n",
       "</div>"
      ],
      "text/plain": [
       "                    op          hi          lo         clo         vol  \\\n",
       "date                                                                     \n",
       "2022-03-31  306.460700  308.599754  304.331393  306.558350  28163600.0   \n",
       "2022-04-01  306.597370  307.808543  300.727208  301.137421  33422100.0   \n",
       "2022-04-04  302.172856  302.915185  298.431969  302.221710  27110500.0   \n",
       "2022-04-05  302.876071  307.779275  302.504907  307.642548  24289600.0   \n",
       "2022-04-06  305.982089  307.544872  302.661192  303.647705  23156700.0   \n",
       "...                ...         ...         ...         ...         ...   \n",
       "2023-06-15  330.486482  335.132323  328.974117  333.451904  26003800.0   \n",
       "2023-06-16  333.590299  345.807826  333.313527  344.087891  38899100.0   \n",
       "2023-06-20  347.270804  347.419069  338.008805  338.384399  46533600.0   \n",
       "2023-06-21  335.399235  338.137298  331.988986  334.153748  26375400.0   \n",
       "2023-06-22  332.493126  333.837467  328.242698  329.715515  25117800.0   \n",
       "\n",
       "                sma_15      sma_60    msd_15    msd_60        vwap        rsi  \n",
       "date                                                                           \n",
       "2022-03-31  291.051060  292.873312  0.017195  0.020944  301.467382  75.353796  \n",
       "2022-04-01  292.530487  292.547389  0.017797  0.020951  302.943619  55.617561  \n",
       "2022-04-04  294.441636  292.444716  0.016469  0.020369  303.711375  58.345311  \n",
       "2022-04-05  296.950545  292.473004  0.015738  0.020474  304.565485  69.904477  \n",
       "2022-04-06  298.495742  292.432111  0.014324  0.020546  304.223972  55.672986  \n",
       "...                ...         ...       ...       ...         ...        ...  \n",
       "2023-06-15  326.115466  299.889669  0.015585  0.016044  326.759476  72.346888  \n",
       "2023-06-16  328.372481  301.123898  0.016844  0.016450  331.831846  84.517662  \n",
       "2023-06-20  329.453870  302.287563  0.015453  0.016622  335.812114  65.263741  \n",
       "2023-06-21  329.793907  303.292440  0.015108  0.016626  337.134815  53.882363  \n",
       "2023-06-22  329.948769  304.175511  0.015493  0.016738  337.126810  43.853721  \n",
       "\n",
       "[308 rows x 11 columns]"
      ]
     },
     "execution_count": 16,
     "metadata": {},
     "output_type": "execute_result"
    }
   ],
   "source": [
    "X_train"
   ]
  },
  {
   "cell_type": "code",
   "execution_count": 17,
   "metadata": {},
   "outputs": [
    {
     "data": {
      "text/plain": [
       "array([[ 1.57871938,  1.54646433,  1.61236106, ..., -0.15943833,\n",
       "         1.44499673,  1.2281965 ],\n",
       "       [ 1.58363964,  1.51789457,  1.48267711, ..., -0.15681364,\n",
       "         1.49958456,  0.20027421],\n",
       "       [ 1.42435342,  1.3412008 ,  1.40009097, ..., -0.36931257,\n",
       "         1.52797437,  0.34234364],\n",
       "       ...,\n",
       "       [ 3.04791713,  2.94818687,  2.8241248 , ..., -1.73599885,\n",
       "         2.71498538,  0.70267622],\n",
       "       [ 2.62053075,  2.61303238,  2.60752272, ..., -1.73462629,\n",
       "         2.76389579,  0.10989991],\n",
       "       [ 2.5159084 ,  2.45777022,  2.47272565, ..., -1.6936008 ,\n",
       "         2.7635998 , -0.41242181]])"
      ]
     },
     "execution_count": 17,
     "metadata": {},
     "output_type": "execute_result"
    }
   ],
   "source": [
    "X_train_scaled"
   ]
  },
  {
   "cell_type": "code",
   "execution_count": 18,
   "metadata": {},
   "outputs": [
    {
     "data": {
      "text/plain": [
       "308"
      ]
     },
     "execution_count": 18,
     "metadata": {},
     "output_type": "execute_result"
    }
   ],
   "source": [
    "y_train.shape[0]"
   ]
  },
  {
   "cell_type": "code",
   "execution_count": 20,
   "metadata": {},
   "outputs": [
    {
     "name": "stdout",
     "output_type": "stream",
     "text": [
      "0 5\n",
      "1 6\n",
      "2 7\n",
      "3 8\n",
      "4 9\n",
      "5 10\n",
      "6 11\n",
      "7 12\n",
      "8 13\n",
      "9 14\n",
      "10 15\n",
      "11 16\n",
      "12 17\n",
      "13 18\n",
      "14 19\n",
      "15 20\n",
      "16 21\n",
      "17 22\n",
      "18 23\n",
      "19 24\n",
      "20 25\n",
      "21 26\n",
      "22 27\n",
      "23 28\n",
      "24 29\n",
      "25 30\n",
      "26 31\n",
      "27 32\n",
      "28 33\n",
      "29 34\n",
      "30 35\n",
      "31 36\n",
      "32 37\n",
      "33 38\n",
      "34 39\n",
      "35 40\n",
      "36 41\n",
      "37 42\n",
      "38 43\n"
     ]
    }
   ],
   "source": [
    "X_lst = []\n",
    "variable = 0 # first column\n",
    "lag = 5\n",
    "X = []\n",
    "for i in range(lag, X_test_scaled.shape[0]):\n",
    "    print(i-lag, i)\n",
    "    X_sliced = X_test_scaled[i-lag:i, variable]\n",
    "    X.append(X_sliced)\n",
    "\n",
    "X_lst.append(X)"
   ]
  },
  {
   "cell_type": "code",
   "execution_count": 25,
   "metadata": {},
   "outputs": [
    {
     "data": {
      "text/plain": [
       "(1, 39, 5)"
      ]
     },
     "execution_count": 25,
     "metadata": {},
     "output_type": "execute_result"
    }
   ],
   "source": [
    "np.array(X_lst).shape"
   ]
  },
  {
   "cell_type": "code",
   "execution_count": 21,
   "metadata": {},
   "outputs": [
    {
     "data": {
      "text/plain": [
       "array([ 5.85551883e-03,  2.27402931e-02,  2.37178583e-03,  2.35426454e-02,\n",
       "        6.50152723e-03,  1.28616581e-02,  1.05726761e-02,  1.12192855e-02,\n",
       "        7.40574013e-03, -6.91089054e-03,  2.48968170e-02, -8.08836809e-03,\n",
       "        9.79051473e-03,  4.05955557e-04,  1.75834096e-02, -1.68009429e-02,\n",
       "        2.05217398e-02, -1.15779747e-02,  1.28126530e-02, -1.11168161e-03,\n",
       "        3.12638789e-03,  1.08028069e-02, -1.00601459e-02,  1.58415662e-04,\n",
       "       -1.16123332e-02, -1.43385654e-02,  9.15626926e-03, -9.98602524e-03,\n",
       "        5.82969436e-03,  8.84222120e-03, -7.82952328e-03,  8.29531789e-03,\n",
       "       -2.68547231e-05, -2.25444474e-02,  1.31172662e-02,  5.17883982e-03,\n",
       "        1.63716273e-03, -7.07294656e-03,  7.87874238e-03,  2.78410919e-03,\n",
       "        2.13573963e-04, -1.57471010e-03,  3.23460742e-03,  2.02516816e-03])"
      ]
     },
     "execution_count": 21,
     "metadata": {},
     "output_type": "execute_result"
    }
   ],
   "source": [
    "y_test"
   ]
  },
  {
   "cell_type": "code",
   "execution_count": 28,
   "metadata": {},
   "outputs": [
    {
     "data": {
      "text/plain": [
       "array([[0.00585552]])"
      ]
     },
     "execution_count": 28,
     "metadata": {},
     "output_type": "execute_result"
    }
   ],
   "source": [
    "i = 0\n",
    "y_test[i].reshape(-1,1).transpose()"
   ]
  },
  {
   "cell_type": "code",
   "execution_count": 29,
   "metadata": {},
   "outputs": [],
   "source": [
    "y_lst = []\n",
    "for i in range(lag, y_test.shape[0]):\n",
    "    y_lst.append(y_test[i].reshape(-1,1).transpose())"
   ]
  },
  {
   "cell_type": "code",
   "execution_count": 32,
   "metadata": {},
   "outputs": [],
   "source": [
    "y_lst = np.concatenate(y_lst, axis=0)"
   ]
  },
  {
   "cell_type": "code",
   "execution_count": 33,
   "metadata": {},
   "outputs": [
    {
     "data": {
      "text/plain": [
       "array([[ 1.28616581e-02],\n",
       "       [ 1.05726761e-02],\n",
       "       [ 1.12192855e-02],\n",
       "       [ 7.40574013e-03],\n",
       "       [-6.91089054e-03],\n",
       "       [ 2.48968170e-02],\n",
       "       [-8.08836809e-03],\n",
       "       [ 9.79051473e-03],\n",
       "       [ 4.05955557e-04],\n",
       "       [ 1.75834096e-02],\n",
       "       [-1.68009429e-02],\n",
       "       [ 2.05217398e-02],\n",
       "       [-1.15779747e-02],\n",
       "       [ 1.28126530e-02],\n",
       "       [-1.11168161e-03],\n",
       "       [ 3.12638789e-03],\n",
       "       [ 1.08028069e-02],\n",
       "       [-1.00601459e-02],\n",
       "       [ 1.58415662e-04],\n",
       "       [-1.16123332e-02],\n",
       "       [-1.43385654e-02],\n",
       "       [ 9.15626926e-03],\n",
       "       [-9.98602524e-03],\n",
       "       [ 5.82969436e-03],\n",
       "       [ 8.84222120e-03],\n",
       "       [-7.82952328e-03],\n",
       "       [ 8.29531789e-03],\n",
       "       [-2.68547231e-05],\n",
       "       [-2.25444474e-02],\n",
       "       [ 1.31172662e-02],\n",
       "       [ 5.17883982e-03],\n",
       "       [ 1.63716273e-03],\n",
       "       [-7.07294656e-03],\n",
       "       [ 7.87874238e-03],\n",
       "       [ 2.78410919e-03],\n",
       "       [ 2.13573963e-04],\n",
       "       [-1.57471010e-03],\n",
       "       [ 3.23460742e-03],\n",
       "       [ 2.02516816e-03]])"
      ]
     },
     "execution_count": 33,
     "metadata": {},
     "output_type": "execute_result"
    }
   ],
   "source": [
    "np.array(y_lst)"
   ]
  },
  {
   "cell_type": "code",
   "execution_count": 34,
   "metadata": {},
   "outputs": [
    {
     "data": {
      "text/plain": [
       "(39, 1)"
      ]
     },
     "execution_count": 34,
     "metadata": {},
     "output_type": "execute_result"
    }
   ],
   "source": [
    "np.array(y_lst).shape"
   ]
  },
  {
   "cell_type": "code",
   "execution_count": 35,
   "metadata": {},
   "outputs": [],
   "source": [
    "def format_data(X_s, y_s, lag):\n",
    "\n",
    "    if len(X_s) != len(y_s):\n",
    "        print(\"Warning: samples with different size!\")\n",
    "\n",
    "    X_train = []\n",
    "    for variable in range(0, X_s.shape[1]):\n",
    "        X = []\n",
    "        \n",
    "        for i in range(lag, X_s.shape[0]):\n",
    "            X.append(X_s[i-lag:i, variable])\n",
    "        \n",
    "        X_train.append(X)\n",
    "    \n",
    "    X_train, np.array(X_train)\n",
    "    X_train = np.swapaxes(np.swapaxes(X_train, 0, 1), 1, 2)\n",
    "\n",
    "    y_train = []\n",
    "    for i in range(lag, y_s.shape[0]):\n",
    "        y_train.append(y_s[i].reshape(-1,1).transpose())\n",
    "    \n",
    "    y_train = np.concatenate(y_train, axis=0)\n",
    "    \n",
    "    return X_train, y_train"
   ]
  },
  {
   "cell_type": "code",
   "execution_count": 36,
   "metadata": {},
   "outputs": [],
   "source": [
    "lag = 5\n",
    "\n",
    "X_train2, y_train2 = format_data(X_train_scaled, y_train, lag=lag)\n",
    "X_val2, y_val2     = format_data(X_val_scaled, y_val, lag=lag)\n",
    "X_test2, y_test2   = format_data(X_test_scaled, y_test, lag=lag)"
   ]
  },
  {
   "cell_type": "code",
   "execution_count": 39,
   "metadata": {},
   "outputs": [
    {
     "data": {
      "text/plain": [
       "(308, 11)"
      ]
     },
     "execution_count": 39,
     "metadata": {},
     "output_type": "execute_result"
    }
   ],
   "source": [
    "X_train_scaled.shape"
   ]
  },
  {
   "cell_type": "code",
   "execution_count": 40,
   "metadata": {},
   "outputs": [
    {
     "data": {
      "text/plain": [
       "(303, 5, 11)"
      ]
     },
     "execution_count": 40,
     "metadata": {},
     "output_type": "execute_result"
    }
   ],
   "source": [
    "X_train2.shape"
   ]
  },
  {
   "cell_type": "code",
   "execution_count": 41,
   "metadata": {},
   "outputs": [
    {
     "data": {
      "text/plain": [
       "(303, 1)"
      ]
     },
     "execution_count": 41,
     "metadata": {},
     "output_type": "execute_result"
    }
   ],
   "source": [
    "y_train2.shape"
   ]
  },
  {
   "cell_type": "code",
   "execution_count": 42,
   "metadata": {},
   "outputs": [
    {
     "data": {
      "text/plain": [
       "array([[ 1.57871938,  1.54646433,  1.61236106,  1.5754579 , -0.13531235,\n",
       "         1.16320701,  1.74623519, -0.62788834, -0.15943833,  1.44499673,\n",
       "         1.2281965 ],\n",
       "       [ 1.58363964,  1.51789457,  1.48267711,  1.38057402,  0.39032454,\n",
       "         1.22225091,  1.72878194, -0.51731361, -0.15681364,  1.49958456,\n",
       "         0.20027421],\n",
       "       [ 1.42435342,  1.3412008 ,  1.40009097,  1.41955453, -0.24057967,\n",
       "         1.29852482,  1.72328379, -0.76134411, -0.36931257,  1.52797437,\n",
       "         0.34234364],\n",
       "       [ 1.44966976,  1.51683774,  1.54664136,  1.61443512, -0.52255535,\n",
       "         1.39865532,  1.72479861, -0.8956818 , -0.33071016,  1.55955739,\n",
       "         0.94437964],\n",
       "       [ 1.56148898,  1.50837371,  1.55226475,  1.47081944, -0.63579943,\n",
       "         1.46032408,  1.72260878, -1.1554968 , -0.30457973,  1.54692905,\n",
       "         0.20316092]])"
      ]
     },
     "execution_count": 42,
     "metadata": {},
     "output_type": "execute_result"
    }
   ],
   "source": [
    "X_train2[0]"
   ]
  },
  {
   "cell_type": "code",
   "execution_count": 46,
   "metadata": {},
   "outputs": [
    {
     "data": {
      "text/plain": [
       "array([0.00624378])"
      ]
     },
     "execution_count": 46,
     "metadata": {},
     "output_type": "execute_result"
    }
   ],
   "source": [
    "y_train2[0]"
   ]
  },
  {
   "cell_type": "code",
   "execution_count": 47,
   "metadata": {},
   "outputs": [
    {
     "name": "stdout",
     "output_type": "stream",
     "text": [
      "[ 1.57871938  1.54646433  1.61236106  1.5754579  -0.13531235  1.16320701\n",
      "  1.74623519 -0.62788834 -0.15943833  1.44499673  1.2281965 ] 0.0058555188311963935\n",
      "[ 1.58363964  1.51789457  1.48267711  1.38057402  0.39032454  1.22225091\n",
      "  1.72878194 -0.51731361 -0.15681364  1.49958456  0.20027421] 0.022740293076186413\n",
      "[ 1.42435342  1.3412008   1.40009097  1.41955453 -0.24057967  1.29852482\n",
      "  1.72328379 -0.76134411 -0.36931257  1.52797437  0.34234364] 0.002371785831977391\n",
      "[ 1.44966976  1.51683774  1.54664136  1.61443512 -0.52255535  1.39865532\n",
      "  1.72479861 -0.8956818  -0.33071016  1.55955739  0.94437964] 0.023542645434764475\n",
      "[ 1.56148898  1.50837371  1.55226475  1.47081944 -0.63579943  1.46032408\n",
      "  1.72260878 -1.1554968  -0.30457973  1.54692905  0.20316092] 0.006501527233958582\n"
     ]
    }
   ],
   "source": [
    "for i in range(5):\n",
    "    print(X_train_scaled[i], y_test[i])"
   ]
  },
  {
   "cell_type": "code",
   "execution_count": 48,
   "metadata": {},
   "outputs": [],
   "source": [
    "def transformer_encoder(inputs, head_size, num_heads, ff_dim, dropout=0):    \n",
    "\n",
    "    x = layers.LayerNormalization(epsilon=1e-6)(inputs)\n",
    "    x = layers.MultiHeadAttention(key_dim=head_size, num_heads=num_heads, dropout=dropout)(x, x, x)\n",
    "    x = layers.Dropout(dropout)(x)\n",
    "    \n",
    "    res = x + inputs\n",
    "    x = layers.LayerNormalization(epsilon=1e-6)(res)\n",
    "    x = layers.Conv1D(filters=ff_dim, kernel_size=1, activation=\"relu\")(x)\n",
    "    x = layers.Dropout(dropout)(x)\n",
    "    x = layers.Conv1D(filters=inputs.shape[-1], kernel_size=1)(x)\n",
    "    \n",
    "    return x + res"
   ]
  },
  {
   "cell_type": "code",
   "execution_count": 49,
   "metadata": {},
   "outputs": [],
   "source": [
    "def create_model(\n",
    "        input_shape, \n",
    "        head_size, \n",
    "        num_heads, \n",
    "        ff_dim, \n",
    "        num_transformer_blocks, \n",
    "        mlp_units, \n",
    "        dropout=0, \n",
    "        mlp_dropout=0):\n",
    "    \n",
    "    inputs = tensorflow.keras.Input(shape=input_shape)\n",
    "    \n",
    "    x = inputs\n",
    "    x = layers.LSTM(10, return_sequences=True)(x)\n",
    "    \n",
    "    for _ in range(num_transformer_blocks):\n",
    "        x = transformer_encoder(x, head_size, num_heads, ff_dim, dropout)\n",
    "    \n",
    "    x = layers.GRU(100, return_sequences=False)(x)\n",
    "    x = layers.Dropout(mlp_dropout)(x)\n",
    "    x = layers.Dense(mlp_units, activation=\"relu\")(x)\n",
    "    \n",
    "    outputs = layers.Dense(1)(x)\n",
    "    \n",
    "    return tensorflow.keras.Model(inputs, outputs)"
   ]
  },
  {
   "cell_type": "code",
   "execution_count": 50,
   "metadata": {},
   "outputs": [
    {
     "data": {
      "text/plain": [
       "(5, 11)"
      ]
     },
     "execution_count": 50,
     "metadata": {},
     "output_type": "execute_result"
    }
   ],
   "source": [
    "input_shape = X_train2.shape[1:]\n",
    "input_shape"
   ]
  },
  {
   "cell_type": "code",
   "execution_count": 51,
   "metadata": {},
   "outputs": [],
   "source": [
    "model = create_model(\n",
    "    input_shape=input_shape, \n",
    "    head_size=16, \n",
    "    num_heads=1, \n",
    "    ff_dim=4, \n",
    "    num_transformer_blocks=1, \n",
    "    mlp_units=125, \n",
    "    dropout=0.1, \n",
    "    mlp_dropout=0.25\n",
    ")"
   ]
  },
  {
   "cell_type": "code",
   "execution_count": 52,
   "metadata": {},
   "outputs": [],
   "source": [
    "model.compile(loss=\"mean_squared_error\", optimizer=tensorflow.keras.optimizers.Adam())"
   ]
  },
  {
   "cell_type": "code",
   "execution_count": 53,
   "metadata": {},
   "outputs": [
    {
     "name": "stdout",
     "output_type": "stream",
     "text": [
      "Model: \"model\"\n",
      "__________________________________________________________________________________________________\n",
      " Layer (type)                Output Shape                 Param #   Connected to                  \n",
      "==================================================================================================\n",
      " input_1 (InputLayer)        [(None, 5, 11)]              0         []                            \n",
      "                                                                                                  \n",
      " lstm (LSTM)                 (None, 5, 10)                880       ['input_1[0][0]']             \n",
      "                                                                                                  \n",
      " layer_normalization (Layer  (None, 5, 10)                20        ['lstm[0][0]']                \n",
      " Normalization)                                                                                   \n",
      "                                                                                                  \n",
      " multi_head_attention (Mult  (None, 5, 10)                698       ['layer_normalization[0][0]', \n",
      " iHeadAttention)                                                     'layer_normalization[0][0]', \n",
      "                                                                     'layer_normalization[0][0]'] \n",
      "                                                                                                  \n",
      " dropout (Dropout)           (None, 5, 10)                0         ['multi_head_attention[0][0]']\n",
      "                                                                                                  \n",
      " tf.__operators__.add (TFOp  (None, 5, 10)                0         ['dropout[0][0]',             \n",
      " Lambda)                                                             'lstm[0][0]']                \n",
      "                                                                                                  \n",
      " layer_normalization_1 (Lay  (None, 5, 10)                20        ['tf.__operators__.add[0][0]']\n",
      " erNormalization)                                                                                 \n",
      "                                                                                                  \n",
      " conv1d (Conv1D)             (None, 5, 4)                 44        ['layer_normalization_1[0][0]'\n",
      "                                                                    ]                             \n",
      "                                                                                                  \n",
      " dropout_1 (Dropout)         (None, 5, 4)                 0         ['conv1d[0][0]']              \n",
      "                                                                                                  \n",
      " conv1d_1 (Conv1D)           (None, 5, 10)                50        ['dropout_1[0][0]']           \n",
      "                                                                                                  \n",
      " tf.__operators__.add_1 (TF  (None, 5, 10)                0         ['conv1d_1[0][0]',            \n",
      " OpLambda)                                                           'tf.__operators__.add[0][0]']\n",
      "                                                                                                  \n",
      " gru (GRU)                   (None, 100)                  33600     ['tf.__operators__.add_1[0][0]\n",
      "                                                                    ']                            \n",
      "                                                                                                  \n",
      " dropout_2 (Dropout)         (None, 100)                  0         ['gru[0][0]']                 \n",
      "                                                                                                  \n",
      " dense (Dense)               (None, 125)                  12625     ['dropout_2[0][0]']           \n",
      "                                                                                                  \n",
      " dense_1 (Dense)             (None, 1)                    126       ['dense[0][0]']               \n",
      "                                                                                                  \n",
      "==================================================================================================\n",
      "Total params: 48063 (187.75 KB)\n",
      "Trainable params: 48063 (187.75 KB)\n",
      "Non-trainable params: 0 (0.00 Byte)\n",
      "__________________________________________________________________________________________________\n"
     ]
    }
   ],
   "source": [
    "model.summary()"
   ]
  },
  {
   "cell_type": "code",
   "execution_count": 54,
   "metadata": {},
   "outputs": [],
   "source": [
    "callbacks = [tensorflow.keras.callbacks.EarlyStopping(patience=5, restore_best_weights=True)]"
   ]
  },
  {
   "cell_type": "code",
   "execution_count": 55,
   "metadata": {},
   "outputs": [
    {
     "name": "stdout",
     "output_type": "stream",
     "text": [
      "Epoch 1/20\n",
      "5/5 [==============================] - 5s 224ms/step - loss: 0.0175 - val_loss: 0.0024\n",
      "Epoch 2/20\n",
      "5/5 [==============================] - 0s 31ms/step - loss: 0.0092 - val_loss: 0.0047\n",
      "Epoch 3/20\n",
      "5/5 [==============================] - 0s 55ms/step - loss: 0.0052 - val_loss: 5.2972e-04\n",
      "Epoch 4/20\n",
      "5/5 [==============================] - 0s 36ms/step - loss: 0.0030 - val_loss: 7.1393e-04\n",
      "Epoch 5/20\n",
      "5/5 [==============================] - 0s 53ms/step - loss: 0.0023 - val_loss: 6.6546e-04\n",
      "Epoch 6/20\n",
      "5/5 [==============================] - 0s 51ms/step - loss: 0.0020 - val_loss: 3.4446e-04\n",
      "Epoch 7/20\n",
      "5/5 [==============================] - 0s 52ms/step - loss: 0.0018 - val_loss: 4.6180e-04\n",
      "Epoch 8/20\n",
      "5/5 [==============================] - 0s 49ms/step - loss: 0.0016 - val_loss: 3.6529e-04\n",
      "Epoch 9/20\n",
      "5/5 [==============================] - 0s 52ms/step - loss: 0.0015 - val_loss: 3.3097e-04\n",
      "Epoch 10/20\n",
      "5/5 [==============================] - 0s 46ms/step - loss: 0.0014 - val_loss: 3.3733e-04\n",
      "Epoch 11/20\n",
      "5/5 [==============================] - 0s 46ms/step - loss: 0.0010 - val_loss: 3.6819e-04\n",
      "Epoch 12/20\n",
      "5/5 [==============================] - 0s 45ms/step - loss: 0.0011 - val_loss: 3.7829e-04\n",
      "Epoch 13/20\n",
      "5/5 [==============================] - 0s 45ms/step - loss: 0.0011 - val_loss: 4.8720e-04\n",
      "Epoch 14/20\n",
      "5/5 [==============================] - 0s 30ms/step - loss: 9.8544e-04 - val_loss: 4.5885e-04\n",
      "CPU times: user 12.3 s, sys: 1.13 s, total: 13.5 s\n",
      "Wall time: 8.31 s\n"
     ]
    },
    {
     "data": {
      "text/plain": [
       "<keras.src.callbacks.History at 0x7f4fdc3a4340>"
      ]
     },
     "execution_count": 55,
     "metadata": {},
     "output_type": "execute_result"
    }
   ],
   "source": [
    "%%time\n",
    "\n",
    "model.fit(\n",
    "    X_train2, y_train2, \n",
    "    validation_data=(X_val2, y_val2), \n",
    "    epochs=20, \n",
    "    batch_size=64, \n",
    "    callbacks=callbacks\n",
    ")"
   ]
  },
  {
   "cell_type": "code",
   "execution_count": 56,
   "metadata": {},
   "outputs": [
    {
     "data": {
      "text/plain": [
       "<Axes: >"
      ]
     },
     "execution_count": 56,
     "metadata": {},
     "output_type": "execute_result"
    },
    {
     "data": {
      "image/png": "[encoded data removed]",
      "text/plain": [
       "<Figure size 640x480 with 1 Axes>"
      ]
     },
     "metadata": {},
     "output_type": "display_data"
    }
   ],
   "source": [
    "pd.DataFrame(model.history.history).plot()"
   ]
  },
  {
   "cell_type": "code",
   "execution_count": 57,
   "metadata": {},
   "outputs": [
    {
     "name": "stdout",
     "output_type": "stream",
     "text": [
      "2/2 [==============================] - 1s 9ms/step\n"
     ]
    }
   ],
   "source": [
    "pred = model.predict(X_test2)"
   ]
  },
  {
   "cell_type": "code",
   "execution_count": 59,
   "metadata": {},
   "outputs": [
    {
     "data": {
      "text/plain": [
       "0.015354580843516727"
      ]
     },
     "execution_count": 59,
     "metadata": {},
     "output_type": "execute_result"
    }
   ],
   "source": [
    "score = np.sqrt(metrics.mean_squared_error(pred, y_test2))\n",
    "score"
   ]
  },
  {
   "cell_type": "code",
   "execution_count": null,
   "metadata": {},
   "outputs": [],
   "source": []
  },
  {
   "cell_type": "code",
   "execution_count": null,
   "metadata": {},
   "outputs": [],
   "source": []
  }
 ],
 "metadata": {
  "kernelspec": {
   "display_name": "Python 3",
   "language": "python",
   "name": "python3"
  },
  "language_info": {
   "codemirror_mode": {
    "name": "ipython",
    "version": 3
   },
   "file_extension": ".py",
   "mimetype": "text/x-python",
   "name": "python",
   "nbconvert_exporter": "python",
   "pygments_lexer": "ipython3",
   "version": "3.8.10"
  }
 },
 "nbformat": 4,
 "nbformat_minor": 2
}
