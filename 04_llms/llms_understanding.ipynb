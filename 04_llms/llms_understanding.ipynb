{
 "cells": [
  {
   "cell_type": "code",
   "execution_count": 1,
   "metadata": {},
   "outputs": [],
   "source": [
    "import random\n",
    "random.seed(10)"
   ]
  },
  {
   "cell_type": "code",
   "execution_count": 2,
   "metadata": {},
   "outputs": [],
   "source": [
    "import re\n",
    "import math\n",
    "import torch\n",
    "import numpy as np\n",
    "import torch.nn as nn\n",
    "import torch.nn.functional as F\n",
    "import torch.optim as optim\n",
    "from random import *"
   ]
  },
  {
   "cell_type": "code",
   "execution_count": 3,
   "metadata": {},
   "outputs": [],
   "source": [
    "data = open(\"data.txt\", \"r\").read()"
   ]
  },
  {
   "cell_type": "code",
   "execution_count": 4,
   "metadata": {},
   "outputs": [
    {
     "data": {
      "text/plain": [
       "str"
      ]
     },
     "execution_count": 4,
     "metadata": {},
     "output_type": "execute_result"
    }
   ],
   "source": [
    "type(data)"
   ]
  },
  {
   "cell_type": "code",
   "execution_count": 5,
   "metadata": {},
   "outputs": [
    {
     "name": "stdout",
     "output_type": "stream",
     "text": [
      "'Olá, como vai? Eu sou a Camila.\\n'\n",
      "'Olá, Camila, meu nome é Fernando. Muito prazer.\\n'\n",
      "'Prazer em conhecer você também. Como você está hoje?\\n'\n",
      "'Ótimo. Meu time de futebol venceu a competição.\\n'\n",
      "'Uau, Parabéns Fernando!\\n'\n",
      "'Obrigado Camila.\\n'\n",
      "'Vamos comer uma pizza mais tarde para celebrar?\\n'\n",
      "'Claro. Você recomenda algum restaurante Camila?\\n'\n",
      "'Sim, abriu um restaurante novo e dizem que a pizza de banana é fenomenal.\\n'\n",
      "'Ok. Nos encontramos no restaurante às sete da noite, pode ser?\\n'\n",
      "'Pode sim. Nos vemos mais tarde então.'\n"
     ]
    }
   ],
   "source": [
    "print(data)"
   ]
  },
  {
   "cell_type": "markdown",
   "metadata": {},
   "source": [
    "## vocab construction"
   ]
  },
  {
   "cell_type": "code",
   "execution_count": 45,
   "metadata": {},
   "outputs": [
    {
     "name": "stdout",
     "output_type": "stream",
     "text": [
      "['olá como vai eu sou a camila', 'olá camila meu nome é fernando muito prazer', 'prazer em conhecer você também como você está hoje', 'ótimo meu time de futebol venceu a competição', 'uau parabéns fernando', 'obrigado camila', 'vamos comer uma pizza mais tarde para celebrar', 'claro você recomenda algum restaurante camila', 'sim abriu um restaurante novo e dizem que a pizza de banana é fenomenal', 'ok nos encontramos no restaurante às sete da noite pode ser', 'pode sim nos vemos mais tarde então']\n"
     ]
    }
   ],
   "source": [
    "# re.sub(...) function replaces all occurrences of the characters within the character class with an empty string\n",
    "sentences = re.sub(\"[.,!?\\\\-']\", '', data.lower().replace(\"\\n\", \" \")).split('\\\\n')\n",
    "sentences = [s.strip() for s in sentences]\n",
    "\n",
    "print(sentences)"
   ]
  },
  {
   "cell_type": "code",
   "execution_count": 28,
   "metadata": {},
   "outputs": [
    {
     "name": "stdout",
     "output_type": "stream",
     "text": [
      "['olá', 'como', 'vai', 'eu', 'sou', 'a', 'camila', 'olá', 'camila', 'meu', 'nome', 'é', 'fernando', 'muito', 'prazer', 'prazer', 'em', 'conhecer', 'você', 'também', 'como', 'você', 'está', 'hoje', 'ótimo', 'meu', 'time', 'de', 'futebol', 'venceu', 'a', 'competição', 'uau', 'parabéns', 'fernando', 'obrigado', 'camila', 'vamos', 'comer', 'uma', 'pizza', 'mais', 'tarde', 'para', 'celebrar', 'claro', 'você', 'recomenda', 'algum', 'restaurante', 'camila', 'sim', 'abriu', 'um', 'restaurante', 'novo', 'e', 'dizem', 'que', 'a', 'pizza', 'de', 'banana', 'é', 'fenomenal', 'ok', 'nos', 'encontramos', 'no', 'restaurante', 'às', 'sete', 'da', 'noite', 'pode', 'ser', 'pode', 'sim', 'nos', 'vemos', 'mais', 'tarde', 'então']\n"
     ]
    }
   ],
   "source": [
    "words_lst = list( \" \".join(sentences).split() )\n",
    "\n",
    "print(words_lst)"
   ]
  },
  {
   "cell_type": "code",
   "execution_count": 29,
   "metadata": {},
   "outputs": [],
   "source": [
    "# BERT special tokens\n",
    "words_dict = {\n",
    "    \"[PAD]\": 0, \n",
    "    \"[CLS]\": 1, \n",
    "    \"[SEP]\": 2, \n",
    "    \"[MASK]\": 3\n",
    "    }"
   ]
  },
  {
   "cell_type": "code",
   "execution_count": 30,
   "metadata": {},
   "outputs": [],
   "source": [
    "for i, w in enumerate(words_lst):\n",
    "    words_dict[w] = i + 4"
   ]
  },
  {
   "cell_type": "code",
   "execution_count": 31,
   "metadata": {},
   "outputs": [
    {
     "name": "stdout",
     "output_type": "stream",
     "text": [
      "{'[PAD]': 0, '[CLS]': 1, '[SEP]': 2, '[MASK]': 3, 'olá': 11, 'como': 24, 'vai': 6, 'eu': 7, 'sou': 8, 'a': 63, 'camila': 54, 'meu': 29, 'nome': 14, 'é': 67, 'fernando': 38, 'muito': 17, 'prazer': 19, 'em': 20, 'conhecer': 21, 'você': 50, 'também': 23, 'está': 26, 'hoje': 27, 'ótimo': 28, 'time': 30, 'de': 65, 'futebol': 32, 'venceu': 33, 'competição': 35, 'uau': 36, 'parabéns': 37, 'obrigado': 39, 'vamos': 41, 'comer': 42, 'uma': 43, 'pizza': 64, 'mais': 84, 'tarde': 85, 'para': 47, 'celebrar': 48, 'claro': 49, 'recomenda': 51, 'algum': 52, 'restaurante': 73, 'sim': 81, 'abriu': 56, 'um': 57, 'novo': 59, 'e': 60, 'dizem': 61, 'que': 62, 'banana': 66, 'fenomenal': 68, 'ok': 69, 'nos': 82, 'encontramos': 71, 'no': 72, 'às': 74, 'sete': 75, 'da': 76, 'noite': 77, 'pode': 80, 'ser': 79, 'vemos': 83, 'então': 86}\n"
     ]
    }
   ],
   "source": [
    "print(words_dict)"
   ]
  },
  {
   "cell_type": "code",
   "execution_count": 32,
   "metadata": {},
   "outputs": [
    {
     "name": "stdout",
     "output_type": "stream",
     "text": [
      "{0: '[PAD]', 1: '[CLS]', 2: '[SEP]', 3: '[MASK]', 11: 'olá', 24: 'como', 6: 'vai', 7: 'eu', 8: 'sou', 63: 'a', 54: 'camila', 29: 'meu', 14: 'nome', 67: 'é', 38: 'fernando', 17: 'muito', 19: 'prazer', 20: 'em', 21: 'conhecer', 50: 'você', 23: 'também', 26: 'está', 27: 'hoje', 28: 'ótimo', 30: 'time', 65: 'de', 32: 'futebol', 33: 'venceu', 35: 'competição', 36: 'uau', 37: 'parabéns', 39: 'obrigado', 41: 'vamos', 42: 'comer', 43: 'uma', 64: 'pizza', 84: 'mais', 85: 'tarde', 47: 'para', 48: 'celebrar', 49: 'claro', 51: 'recomenda', 52: 'algum', 73: 'restaurante', 81: 'sim', 56: 'abriu', 57: 'um', 59: 'novo', 60: 'e', 61: 'dizem', 62: 'que', 66: 'banana', 68: 'fenomenal', 69: 'ok', 82: 'nos', 71: 'encontramos', 72: 'no', 74: 'às', 75: 'sete', 76: 'da', 77: 'noite', 80: 'pode', 79: 'ser', 83: 'vemos', 86: 'então'}\n"
     ]
    }
   ],
   "source": [
    "nums_dict = { i: k for k, i in words_dict.items()}\n",
    "\n",
    "print(nums_dict)"
   ]
  },
  {
   "cell_type": "code",
   "execution_count": 34,
   "metadata": {},
   "outputs": [
    {
     "data": {
      "text/plain": [
       "65"
      ]
     },
     "execution_count": 34,
     "metadata": {},
     "output_type": "execute_result"
    }
   ],
   "source": [
    "VOCAB_SIZE = len(words_dict)\n",
    "VOCAB_SIZE"
   ]
  },
  {
   "cell_type": "code",
   "execution_count": 47,
   "metadata": {},
   "outputs": [
    {
     "data": {
      "text/plain": [
       "['olá', 'como', 'vai', 'eu', 'sou', 'a', 'camila']"
      ]
     },
     "execution_count": 47,
     "metadata": {},
     "output_type": "execute_result"
    }
   ],
   "source": [
    "sentences[0].split()"
   ]
  },
  {
   "cell_type": "code",
   "execution_count": 49,
   "metadata": {},
   "outputs": [],
   "source": [
    "tokens_lst = []\n",
    "\n",
    "for sentence in sentences:\n",
    "    tokens = [words_dict[s] for s in sentence.split()]\n",
    "    tokens_lst.append(tokens)"
   ]
  },
  {
   "cell_type": "code",
   "execution_count": 50,
   "metadata": {},
   "outputs": [
    {
     "data": {
      "text/plain": [
       "[[11, 24, 6, 7, 8, 63, 54],\n",
       " [11, 54, 29, 14, 67, 38, 17, 19],\n",
       " [19, 20, 21, 50, 23, 24, 50, 26, 27],\n",
       " [28, 29, 30, 65, 32, 33, 63, 35],\n",
       " [36, 37, 38],\n",
       " [39, 54],\n",
       " [41, 42, 43, 64, 84, 85, 47, 48],\n",
       " [49, 50, 51, 52, 73, 54],\n",
       " [81, 56, 57, 73, 59, 60, 61, 62, 63, 64, 65, 66, 67, 68],\n",
       " [69, 82, 71, 72, 73, 74, 75, 76, 77, 80, 79],\n",
       " [80, 81, 82, 83, 84, 85, 86]]"
      ]
     },
     "execution_count": 50,
     "metadata": {},
     "output_type": "execute_result"
    }
   ],
   "source": [
    "tokens_lst"
   ]
  },
  {
   "cell_type": "markdown",
   "metadata": {},
   "source": [
    "## hyperparams definition"
   ]
  },
  {
   "cell_type": "code",
   "execution_count": 51,
   "metadata": {},
   "outputs": [],
   "source": [
    "BATCH_SIZE = 6\n",
    "N_SEGMENTS = 2\n",
    "DROPOUT    = 0.2\n",
    "\n",
    "MAX_LEN     = 100\n",
    "MAX_PRED    = 7 # max num of tokens that will be predicted \n",
    "\n",
    "N_LAYERS    = 6\n",
    "N_HEADS     = 12\n",
    "\n",
    "D_MODEL     = 768 # embedding dim\n",
    "D_FF        = D_MODEL * 4 # feedforward dim\n",
    "D_K = D_V   = 64\n",
    "\n",
    "N_EPOCHS    = 10"
   ]
  }
 ],
 "metadata": {
  "kernelspec": {
   "display_name": "Python 3",
   "language": "python",
   "name": "python3"
  },
  "language_info": {
   "codemirror_mode": {
    "name": "ipython",
    "version": 3
   },
   "file_extension": ".py",
   "mimetype": "text/x-python",
   "name": "python",
   "nbconvert_exporter": "python",
   "pygments_lexer": "ipython3",
   "version": "3.8.10"
  }
 },
 "nbformat": 4,
 "nbformat_minor": 2
}
